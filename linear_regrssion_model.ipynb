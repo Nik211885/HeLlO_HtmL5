{
  "nbformat": 4,
  "nbformat_minor": 0,
  "metadata": {
    "colab": {
      "provenance": [],
      "authorship_tag": "ABX9TyMrxdAmwcicKKnd4tXpszeN",
      "include_colab_link": true
    },
    "kernelspec": {
      "name": "python3",
      "display_name": "Python 3"
    },
    "language_info": {
      "name": "python"
    }
  },
  "cells": [
    {
      "cell_type": "markdown",
      "metadata": {
        "id": "view-in-github",
        "colab_type": "text"
      },
      "source": [
        "<a href=\"https://colab.research.google.com/github/Nik211885/Hello_HTML5/blob/master/linear_regrssion_model.ipynb\" target=\"_parent\"><img src=\"https://colab.research.google.com/assets/colab-badge.svg\" alt=\"Open In Colab\"/></a>"
      ]
    },
    {
      "cell_type": "code",
      "execution_count": 4,
      "metadata": {
        "id": "DKHYda9h_LRW"
      },
      "outputs": [],
      "source": [
        "import numpy as np\n",
        "import pandas as pd\n",
        "import matplotlib.pyplot as plt"
      ]
    },
    {
      "cell_type": "code",
      "source": [
        "df = pd.read_csv('./sample_data/california_housing_train.csv',usecols=['total_rooms','total_bedrooms','median_income','median_house_value'])"
      ],
      "metadata": {
        "id": "GUQu47ENgucF"
      },
      "execution_count": 5,
      "outputs": []
    },
    {
      "cell_type": "code",
      "source": [
        "df.head(10)"
      ],
      "metadata": {
        "colab": {
          "base_uri": "https://localhost:8080/",
          "height": 363
        },
        "id": "30x90-C8hUxm",
        "outputId": "b4005102-522f-4616-b425-413545d0d2c7"
      },
      "execution_count": 6,
      "outputs": [
        {
          "output_type": "execute_result",
          "data": {
            "text/plain": [
              "   total_rooms  total_bedrooms  median_income  median_house_value\n",
              "0       5612.0          1283.0         1.4936             66900.0\n",
              "1       7650.0          1901.0         1.8200             80100.0\n",
              "2        720.0           174.0         1.6509             85700.0\n",
              "3       1501.0           337.0         3.1917             73400.0\n",
              "4       1454.0           326.0         1.9250             65500.0\n",
              "5       1387.0           236.0         3.3438             74000.0\n",
              "6       2907.0           680.0         2.6768             82400.0\n",
              "7        812.0           168.0         1.7083             48500.0\n",
              "8       4789.0          1175.0         2.1782             58400.0\n",
              "9       1497.0           309.0         2.1908             48100.0"
            ],
            "text/html": [
              "\n",
              "  <div id=\"df-4728ee73-4b8f-473b-b0db-f4b88d4932e9\" class=\"colab-df-container\">\n",
              "    <div>\n",
              "<style scoped>\n",
              "    .dataframe tbody tr th:only-of-type {\n",
              "        vertical-align: middle;\n",
              "    }\n",
              "\n",
              "    .dataframe tbody tr th {\n",
              "        vertical-align: top;\n",
              "    }\n",
              "\n",
              "    .dataframe thead th {\n",
              "        text-align: right;\n",
              "    }\n",
              "</style>\n",
              "<table border=\"1\" class=\"dataframe\">\n",
              "  <thead>\n",
              "    <tr style=\"text-align: right;\">\n",
              "      <th></th>\n",
              "      <th>total_rooms</th>\n",
              "      <th>total_bedrooms</th>\n",
              "      <th>median_income</th>\n",
              "      <th>median_house_value</th>\n",
              "    </tr>\n",
              "  </thead>\n",
              "  <tbody>\n",
              "    <tr>\n",
              "      <th>0</th>\n",
              "      <td>5612.0</td>\n",
              "      <td>1283.0</td>\n",
              "      <td>1.4936</td>\n",
              "      <td>66900.0</td>\n",
              "    </tr>\n",
              "    <tr>\n",
              "      <th>1</th>\n",
              "      <td>7650.0</td>\n",
              "      <td>1901.0</td>\n",
              "      <td>1.8200</td>\n",
              "      <td>80100.0</td>\n",
              "    </tr>\n",
              "    <tr>\n",
              "      <th>2</th>\n",
              "      <td>720.0</td>\n",
              "      <td>174.0</td>\n",
              "      <td>1.6509</td>\n",
              "      <td>85700.0</td>\n",
              "    </tr>\n",
              "    <tr>\n",
              "      <th>3</th>\n",
              "      <td>1501.0</td>\n",
              "      <td>337.0</td>\n",
              "      <td>3.1917</td>\n",
              "      <td>73400.0</td>\n",
              "    </tr>\n",
              "    <tr>\n",
              "      <th>4</th>\n",
              "      <td>1454.0</td>\n",
              "      <td>326.0</td>\n",
              "      <td>1.9250</td>\n",
              "      <td>65500.0</td>\n",
              "    </tr>\n",
              "    <tr>\n",
              "      <th>5</th>\n",
              "      <td>1387.0</td>\n",
              "      <td>236.0</td>\n",
              "      <td>3.3438</td>\n",
              "      <td>74000.0</td>\n",
              "    </tr>\n",
              "    <tr>\n",
              "      <th>6</th>\n",
              "      <td>2907.0</td>\n",
              "      <td>680.0</td>\n",
              "      <td>2.6768</td>\n",
              "      <td>82400.0</td>\n",
              "    </tr>\n",
              "    <tr>\n",
              "      <th>7</th>\n",
              "      <td>812.0</td>\n",
              "      <td>168.0</td>\n",
              "      <td>1.7083</td>\n",
              "      <td>48500.0</td>\n",
              "    </tr>\n",
              "    <tr>\n",
              "      <th>8</th>\n",
              "      <td>4789.0</td>\n",
              "      <td>1175.0</td>\n",
              "      <td>2.1782</td>\n",
              "      <td>58400.0</td>\n",
              "    </tr>\n",
              "    <tr>\n",
              "      <th>9</th>\n",
              "      <td>1497.0</td>\n",
              "      <td>309.0</td>\n",
              "      <td>2.1908</td>\n",
              "      <td>48100.0</td>\n",
              "    </tr>\n",
              "  </tbody>\n",
              "</table>\n",
              "</div>\n",
              "    <div class=\"colab-df-buttons\">\n",
              "\n",
              "  <div class=\"colab-df-container\">\n",
              "    <button class=\"colab-df-convert\" onclick=\"convertToInteractive('df-4728ee73-4b8f-473b-b0db-f4b88d4932e9')\"\n",
              "            title=\"Convert this dataframe to an interactive table.\"\n",
              "            style=\"display:none;\">\n",
              "\n",
              "  <svg xmlns=\"http://www.w3.org/2000/svg\" height=\"24px\" viewBox=\"0 -960 960 960\">\n",
              "    <path d=\"M120-120v-720h720v720H120Zm60-500h600v-160H180v160Zm220 220h160v-160H400v160Zm0 220h160v-160H400v160ZM180-400h160v-160H180v160Zm440 0h160v-160H620v160ZM180-180h160v-160H180v160Zm440 0h160v-160H620v160Z\"/>\n",
              "  </svg>\n",
              "    </button>\n",
              "\n",
              "  <style>\n",
              "    .colab-df-container {\n",
              "      display:flex;\n",
              "      gap: 12px;\n",
              "    }\n",
              "\n",
              "    .colab-df-convert {\n",
              "      background-color: #E8F0FE;\n",
              "      border: none;\n",
              "      border-radius: 50%;\n",
              "      cursor: pointer;\n",
              "      display: none;\n",
              "      fill: #1967D2;\n",
              "      height: 32px;\n",
              "      padding: 0 0 0 0;\n",
              "      width: 32px;\n",
              "    }\n",
              "\n",
              "    .colab-df-convert:hover {\n",
              "      background-color: #E2EBFA;\n",
              "      box-shadow: 0px 1px 2px rgba(60, 64, 67, 0.3), 0px 1px 3px 1px rgba(60, 64, 67, 0.15);\n",
              "      fill: #174EA6;\n",
              "    }\n",
              "\n",
              "    .colab-df-buttons div {\n",
              "      margin-bottom: 4px;\n",
              "    }\n",
              "\n",
              "    [theme=dark] .colab-df-convert {\n",
              "      background-color: #3B4455;\n",
              "      fill: #D2E3FC;\n",
              "    }\n",
              "\n",
              "    [theme=dark] .colab-df-convert:hover {\n",
              "      background-color: #434B5C;\n",
              "      box-shadow: 0px 1px 3px 1px rgba(0, 0, 0, 0.15);\n",
              "      filter: drop-shadow(0px 1px 2px rgba(0, 0, 0, 0.3));\n",
              "      fill: #FFFFFF;\n",
              "    }\n",
              "  </style>\n",
              "\n",
              "    <script>\n",
              "      const buttonEl =\n",
              "        document.querySelector('#df-4728ee73-4b8f-473b-b0db-f4b88d4932e9 button.colab-df-convert');\n",
              "      buttonEl.style.display =\n",
              "        google.colab.kernel.accessAllowed ? 'block' : 'none';\n",
              "\n",
              "      async function convertToInteractive(key) {\n",
              "        const element = document.querySelector('#df-4728ee73-4b8f-473b-b0db-f4b88d4932e9');\n",
              "        const dataTable =\n",
              "          await google.colab.kernel.invokeFunction('convertToInteractive',\n",
              "                                                    [key], {});\n",
              "        if (!dataTable) return;\n",
              "\n",
              "        const docLinkHtml = 'Like what you see? Visit the ' +\n",
              "          '<a target=\"_blank\" href=https://colab.research.google.com/notebooks/data_table.ipynb>data table notebook</a>'\n",
              "          + ' to learn more about interactive tables.';\n",
              "        element.innerHTML = '';\n",
              "        dataTable['output_type'] = 'display_data';\n",
              "        await google.colab.output.renderOutput(dataTable, element);\n",
              "        const docLink = document.createElement('div');\n",
              "        docLink.innerHTML = docLinkHtml;\n",
              "        element.appendChild(docLink);\n",
              "      }\n",
              "    </script>\n",
              "  </div>\n",
              "\n",
              "\n",
              "<div id=\"df-7978e0f4-68eb-4ebc-ac0e-e6b560aafc0d\">\n",
              "  <button class=\"colab-df-quickchart\" onclick=\"quickchart('df-7978e0f4-68eb-4ebc-ac0e-e6b560aafc0d')\"\n",
              "            title=\"Suggest charts.\"\n",
              "            style=\"display:none;\">\n",
              "\n",
              "<svg xmlns=\"http://www.w3.org/2000/svg\" height=\"24px\"viewBox=\"0 0 24 24\"\n",
              "     width=\"24px\">\n",
              "    <g>\n",
              "        <path d=\"M19 3H5c-1.1 0-2 .9-2 2v14c0 1.1.9 2 2 2h14c1.1 0 2-.9 2-2V5c0-1.1-.9-2-2-2zM9 17H7v-7h2v7zm4 0h-2V7h2v10zm4 0h-2v-4h2v4z\"/>\n",
              "    </g>\n",
              "</svg>\n",
              "  </button>\n",
              "\n",
              "<style>\n",
              "  .colab-df-quickchart {\n",
              "      --bg-color: #E8F0FE;\n",
              "      --fill-color: #1967D2;\n",
              "      --hover-bg-color: #E2EBFA;\n",
              "      --hover-fill-color: #174EA6;\n",
              "      --disabled-fill-color: #AAA;\n",
              "      --disabled-bg-color: #DDD;\n",
              "  }\n",
              "\n",
              "  [theme=dark] .colab-df-quickchart {\n",
              "      --bg-color: #3B4455;\n",
              "      --fill-color: #D2E3FC;\n",
              "      --hover-bg-color: #434B5C;\n",
              "      --hover-fill-color: #FFFFFF;\n",
              "      --disabled-bg-color: #3B4455;\n",
              "      --disabled-fill-color: #666;\n",
              "  }\n",
              "\n",
              "  .colab-df-quickchart {\n",
              "    background-color: var(--bg-color);\n",
              "    border: none;\n",
              "    border-radius: 50%;\n",
              "    cursor: pointer;\n",
              "    display: none;\n",
              "    fill: var(--fill-color);\n",
              "    height: 32px;\n",
              "    padding: 0;\n",
              "    width: 32px;\n",
              "  }\n",
              "\n",
              "  .colab-df-quickchart:hover {\n",
              "    background-color: var(--hover-bg-color);\n",
              "    box-shadow: 0 1px 2px rgba(60, 64, 67, 0.3), 0 1px 3px 1px rgba(60, 64, 67, 0.15);\n",
              "    fill: var(--button-hover-fill-color);\n",
              "  }\n",
              "\n",
              "  .colab-df-quickchart-complete:disabled,\n",
              "  .colab-df-quickchart-complete:disabled:hover {\n",
              "    background-color: var(--disabled-bg-color);\n",
              "    fill: var(--disabled-fill-color);\n",
              "    box-shadow: none;\n",
              "  }\n",
              "\n",
              "  .colab-df-spinner {\n",
              "    border: 2px solid var(--fill-color);\n",
              "    border-color: transparent;\n",
              "    border-bottom-color: var(--fill-color);\n",
              "    animation:\n",
              "      spin 1s steps(1) infinite;\n",
              "  }\n",
              "\n",
              "  @keyframes spin {\n",
              "    0% {\n",
              "      border-color: transparent;\n",
              "      border-bottom-color: var(--fill-color);\n",
              "      border-left-color: var(--fill-color);\n",
              "    }\n",
              "    20% {\n",
              "      border-color: transparent;\n",
              "      border-left-color: var(--fill-color);\n",
              "      border-top-color: var(--fill-color);\n",
              "    }\n",
              "    30% {\n",
              "      border-color: transparent;\n",
              "      border-left-color: var(--fill-color);\n",
              "      border-top-color: var(--fill-color);\n",
              "      border-right-color: var(--fill-color);\n",
              "    }\n",
              "    40% {\n",
              "      border-color: transparent;\n",
              "      border-right-color: var(--fill-color);\n",
              "      border-top-color: var(--fill-color);\n",
              "    }\n",
              "    60% {\n",
              "      border-color: transparent;\n",
              "      border-right-color: var(--fill-color);\n",
              "    }\n",
              "    80% {\n",
              "      border-color: transparent;\n",
              "      border-right-color: var(--fill-color);\n",
              "      border-bottom-color: var(--fill-color);\n",
              "    }\n",
              "    90% {\n",
              "      border-color: transparent;\n",
              "      border-bottom-color: var(--fill-color);\n",
              "    }\n",
              "  }\n",
              "</style>\n",
              "\n",
              "  <script>\n",
              "    async function quickchart(key) {\n",
              "      const quickchartButtonEl =\n",
              "        document.querySelector('#' + key + ' button');\n",
              "      quickchartButtonEl.disabled = true;  // To prevent multiple clicks.\n",
              "      quickchartButtonEl.classList.add('colab-df-spinner');\n",
              "      try {\n",
              "        const charts = await google.colab.kernel.invokeFunction(\n",
              "            'suggestCharts', [key], {});\n",
              "      } catch (error) {\n",
              "        console.error('Error during call to suggestCharts:', error);\n",
              "      }\n",
              "      quickchartButtonEl.classList.remove('colab-df-spinner');\n",
              "      quickchartButtonEl.classList.add('colab-df-quickchart-complete');\n",
              "    }\n",
              "    (() => {\n",
              "      let quickchartButtonEl =\n",
              "        document.querySelector('#df-7978e0f4-68eb-4ebc-ac0e-e6b560aafc0d button');\n",
              "      quickchartButtonEl.style.display =\n",
              "        google.colab.kernel.accessAllowed ? 'block' : 'none';\n",
              "    })();\n",
              "  </script>\n",
              "</div>\n",
              "    </div>\n",
              "  </div>\n"
            ]
          },
          "metadata": {},
          "execution_count": 6
        }
      ]
    },
    {
      "cell_type": "code",
      "source": [
        "print('So du lieu bi nan')\n",
        "for label in df.columns[0:]:\n",
        "  print(f'{label}:{df[label].isnull().sum()}')\n"
      ],
      "metadata": {
        "colab": {
          "base_uri": "https://localhost:8080/"
        },
        "id": "uH3T2CWhhVw5",
        "outputId": "086fb5b1-d456-4a19-f7bb-8b662b8c22e8"
      },
      "execution_count": 7,
      "outputs": [
        {
          "output_type": "stream",
          "name": "stdout",
          "text": [
            "So du lieu bi nan\n",
            "total_rooms:0\n",
            "total_bedrooms:0\n",
            "median_income:0\n",
            "median_house_value:0\n"
          ]
        }
      ]
    },
    {
      "cell_type": "code",
      "source": [
        "for label in df.columns[:-1]:\n",
        "  plt.scatter(df[label],df['median_house_value'])\n",
        "  plt.xlabel(label)\n",
        "  plt.ylabel('Price')\n",
        "  plt.show()"
      ],
      "metadata": {
        "colab": {
          "base_uri": "https://localhost:8080/",
          "height": 1000
        },
        "id": "mX1b-DbZiBuu",
        "outputId": "49cc9f18-d308-461f-a1ef-c3455fb6da65"
      },
      "execution_count": 8,
      "outputs": [
        {
          "output_type": "display_data",
          "data": {
            "text/plain": [
              "<Figure size 640x480 with 1 Axes>"
            ],
            "image/png": "[encoded data removed]"
          },
          "metadata": {}
        },
        {
          "output_type": "display_data",
          "data": {
            "text/plain": [
              "<Figure size 640x480 with 1 Axes>"
            ],
            "image/png": "[encoded data removed]"
          },
          "metadata": {}
        },
        {
          "output_type": "display_data",
          "data": {
            "text/plain": [
              "<Figure size 640x480 with 1 Axes>"
            ],
            "image/png": "[encoded data removed]"
          },
          "metadata": {}
        }
      ]
    },
    {
      "cell_type": "code",
      "source": [
        "x_train = np.array(df[df.columns[:-1]])\n",
        "y_train = np.array(df[df.columns[-1]]).reshape(-1,1)"
      ],
      "metadata": {
        "id": "fI3yAJexr3lO"
      },
      "execution_count": 9,
      "outputs": []
    },
    {
      "cell_type": "code",
      "source": [
        "w = np.zeros(3)\n",
        "b = 0"
      ],
      "metadata": {
        "id": "Z8Rd1H2HiUVa"
      },
      "execution_count": 166,
      "outputs": []
    },
    {
      "cell_type": "code",
      "source": [
        "print(w.shape)"
      ],
      "metadata": {
        "colab": {
          "base_uri": "https://localhost:8080/"
        },
        "id": "zQK5Uz8suntZ",
        "outputId": "58343d8c-ed0d-4feb-d0bb-86ebe8555d46"
      },
      "execution_count": 11,
      "outputs": [
        {
          "output_type": "stream",
          "name": "stdout",
          "text": [
            "(3,)\n"
          ]
        }
      ]
    },
    {
      "cell_type": "code",
      "source": [
        "print(x_train.shape)"
      ],
      "metadata": {
        "colab": {
          "base_uri": "https://localhost:8080/"
        },
        "id": "Pj_AB9fLuqY0",
        "outputId": "32815317-8169-4df2-b6b6-468b5eaf8634"
      },
      "execution_count": 12,
      "outputs": [
        {
          "output_type": "stream",
          "name": "stdout",
          "text": [
            "(17000, 3)\n"
          ]
        }
      ]
    },
    {
      "cell_type": "code",
      "source": [
        "def linear_model_funtion(w,b,x):\n",
        "  return np.sum(w*x) + b"
      ],
      "metadata": {
        "id": "n886QrYmri3t"
      },
      "execution_count": 13,
      "outputs": []
    },
    {
      "cell_type": "code",
      "source": [
        "def cost_funtion(w,x,b,y):\n",
        "  cost = 0\n",
        "  m = y.size\n",
        "  for i in range(m):\n",
        "    cost += (linear_model_funtion(w,b,x[i])-y[i])**2\n",
        "  return cost/(2*m)"
      ],
      "metadata": {
        "id": "LOSKGg4QwEhQ"
      },
      "execution_count": 14,
      "outputs": []
    },
    {
      "cell_type": "code",
      "source": [
        "y_train.shape"
      ],
      "metadata": {
        "colab": {
          "base_uri": "https://localhost:8080/"
        },
        "id": "kjwNLmD1y84N",
        "outputId": "dd1847b7-5198-43d2-9d5d-39565c4d03a5"
      },
      "execution_count": 15,
      "outputs": [
        {
          "output_type": "execute_result",
          "data": {
            "text/plain": [
              "(17000, 1)"
            ]
          },
          "metadata": {},
          "execution_count": 15
        }
      ]
    },
    {
      "cell_type": "code",
      "source": [
        "y_train[1500]"
      ],
      "metadata": {
        "colab": {
          "base_uri": "https://localhost:8080/"
        },
        "id": "FlEBjRqBy-S_",
        "outputId": "6cb730ca-22a6-4321-d1ac-5e14bb27decb"
      },
      "execution_count": 16,
      "outputs": [
        {
          "output_type": "execute_result",
          "data": {
            "text/plain": [
              "array([192200.])"
            ]
          },
          "metadata": {},
          "execution_count": 16
        }
      ]
    },
    {
      "cell_type": "code",
      "source": [
        "x_train[0].shape"
      ],
      "metadata": {
        "colab": {
          "base_uri": "https://localhost:8080/"
        },
        "id": "x8poxt9fzJdz",
        "outputId": "871517c6-ad19-4ba0-c31e-1940a2f86284"
      },
      "execution_count": 17,
      "outputs": [
        {
          "output_type": "execute_result",
          "data": {
            "text/plain": [
              "(3,)"
            ]
          },
          "metadata": {},
          "execution_count": 17
        }
      ]
    },
    {
      "cell_type": "code",
      "source": [
        "y_train.size"
      ],
      "metadata": {
        "colab": {
          "base_uri": "https://localhost:8080/"
        },
        "id": "6U4Q5p-KzcVg",
        "outputId": "84a549c7-5396-463f-b692-1c6cd26926d4"
      },
      "execution_count": 18,
      "outputs": [
        {
          "output_type": "execute_result",
          "data": {
            "text/plain": [
              "17000"
            ]
          },
          "metadata": {},
          "execution_count": 18
        }
      ]
    },
    {
      "cell_type": "code",
      "source": [
        "cost_funtion(w,x_train,b,y_train)[0]"
      ],
      "metadata": {
        "colab": {
          "base_uri": "https://localhost:8080/"
        },
        "id": "O8CUkx8k0Jpo",
        "outputId": "3d5d7d0f-2b5d-4529-c589-88dedb1689c7"
      },
      "execution_count": 19,
      "outputs": [
        {
          "output_type": "execute_result",
          "data": {
            "text/plain": [
              "28212555277.965237"
            ]
          },
          "metadata": {},
          "execution_count": 19
        }
      ]
    },
    {
      "cell_type": "code",
      "source": [
        "def gradient(w,b,x,y):\n",
        "  grd_w = np.zeros(3)\n",
        "  grd_b = 0\n",
        "  m = y.size\n",
        "  for j in range(3):\n",
        "    for i in range(m):\n",
        "      if(not grd_b):\n",
        "        grd_b = (linear_model_funtion(w,b,x[i]) - y[i])\n",
        "      grd_w[j] += (linear_model_funtion(w,b,x[i]) - y[i]) * x[i][j]\n",
        "  return [grd_w/m ,grd_b/m]\n"
      ],
      "metadata": {
        "id": "e0XO1EK6G2FH"
      },
      "execution_count": 20,
      "outputs": []
    },
    {
      "cell_type": "code",
      "source": [
        "def _learning_rate(w,b,x,y,lr = 0.01):\n",
        "  cost = cost_funtion(w,x,b,y)\n",
        "  grd_w ,grd_b = gradient(w,b,x,y)\n",
        "  while(True):\n",
        "    tmp_w = w.copy()\n",
        "    tmp_b = b\n",
        "    for i in range(grd_w.size):\n",
        "      tmp_w[i] -= lr*grd_w[i]\n",
        "    tmp_b -= lr*grd_b\n",
        "    if(cost_funtion(tmp_w,x,tmp_b,y) > cost):\n",
        "      lr = lr /10\n",
        "    else:\n",
        "      return lr"
      ],
      "metadata": {
        "id": "e7JHZBS3P6aB"
      },
      "execution_count": 86,
      "outputs": []
    },
    {
      "cell_type": "code",
      "source": [
        "def gradient_descent(w,b,x,y,learning_rate=0.001):\n",
        "  grd_w, grd_b = gradient(w,b,x,y)\n",
        "  for i in  range(w.size):\n",
        "    w[i] -= learning_rate*grd_w[i]\n",
        "  b -= learning_rate*grd_b\n",
        "  return w,b"
      ],
      "metadata": {
        "id": "aDGMnG5NFHD_"
      },
      "execution_count": 48,
      "outputs": []
    },
    {
      "cell_type": "code",
      "source": [
        "def linear_regrssion_model(w,b,x,y,learning_rate=0.01):\n",
        "  lr = _learning_rate(w,b,x,y,lr = learning_rate)\n",
        "  for _ in range(50):\n",
        "    print(lr)\n",
        "    w,b = gradient_descent(w,b,x,y,learning_rate=lr)\n",
        "  return w,b"
      ],
      "metadata": {
        "id": "ILASERmSW-C8"
      },
      "execution_count": 164,
      "outputs": []
    },
    {
      "cell_type": "code",
      "source": [
        "w, b = linear_regrssion_model(w,b,x_train,y_train)"
      ],
      "metadata": {
        "id": "gearnR6kKbiM",
        "outputId": "023d4c8c-7fef-4e92-e37e-fe64b7bfc867",
        "colab": {
          "base_uri": "https://localhost:8080/"
        }
      },
      "execution_count": 167,
      "outputs": [
        {
          "output_type": "stream",
          "name": "stdout",
          "text": [
            "1.0000000000000002e-07\n",
            "1.0000000000000002e-07\n",
            "1.0000000000000002e-07\n",
            "1.0000000000000002e-07\n",
            "1.0000000000000002e-07\n",
            "1.0000000000000002e-07\n",
            "1.0000000000000002e-07\n",
            "1.0000000000000002e-07\n",
            "1.0000000000000002e-07\n",
            "1.0000000000000002e-07\n",
            "1.0000000000000002e-07\n",
            "1.0000000000000002e-07\n",
            "1.0000000000000002e-07\n",
            "1.0000000000000002e-07\n",
            "1.0000000000000002e-07\n",
            "1.0000000000000002e-07\n",
            "1.0000000000000002e-07\n",
            "1.0000000000000002e-07\n",
            "1.0000000000000002e-07\n",
            "1.0000000000000002e-07\n",
            "1.0000000000000002e-07\n",
            "1.0000000000000002e-07\n",
            "1.0000000000000002e-07\n",
            "1.0000000000000002e-07\n",
            "1.0000000000000002e-07\n",
            "1.0000000000000002e-07\n",
            "1.0000000000000002e-07\n",
            "1.0000000000000002e-07\n",
            "1.0000000000000002e-07\n",
            "1.0000000000000002e-07\n",
            "1.0000000000000002e-07\n",
            "1.0000000000000002e-07\n",
            "1.0000000000000002e-07\n",
            "1.0000000000000002e-07\n",
            "1.0000000000000002e-07\n",
            "1.0000000000000002e-07\n",
            "1.0000000000000002e-07\n",
            "1.0000000000000002e-07\n",
            "1.0000000000000002e-07\n",
            "1.0000000000000002e-07\n",
            "1.0000000000000002e-07\n",
            "1.0000000000000002e-07\n",
            "1.0000000000000002e-07\n",
            "1.0000000000000002e-07\n",
            "1.0000000000000002e-07\n",
            "1.0000000000000002e-07\n",
            "1.0000000000000002e-07\n",
            "1.0000000000000002e-07\n",
            "1.0000000000000002e-07\n",
            "1.0000000000000002e-07\n"
          ]
        }
      ]
    },
    {
      "cell_type": "code",
      "source": [
        "print(w)"
      ],
      "metadata": {
        "id": "U05HvKiDTCU5",
        "outputId": "4738a0ef-cd41-4964-fa42-60cc6cea971d",
        "colab": {
          "base_uri": "https://localhost:8080/"
        }
      },
      "execution_count": 168,
      "outputs": [
        {
          "output_type": "stream",
          "name": "stdout",
          "text": [
            "[46.82317257 13.84419766  2.09676114]\n"
          ]
        }
      ]
    },
    {
      "cell_type": "code",
      "source": [
        "print(b)"
      ],
      "metadata": {
        "id": "CR4vzkEwhwgM",
        "outputId": "3f4a0189-4831-412d-ecf4-7ac035b061d4",
        "colab": {
          "base_uri": "https://localhost:8080/"
        }
      },
      "execution_count": 169,
      "outputs": [
        {
          "output_type": "stream",
          "name": "stdout",
          "text": [
            "[-6.13571094e-05]\n"
          ]
        }
      ]
    },
    {
      "cell_type": "code",
      "source": [
        "cost_funtion(w,x_train,b,y_train)[0]"
      ],
      "metadata": {
        "id": "slD1-ELATHG6",
        "outputId": "bbf221c4-88f3-4e5f-ea2e-550ffff9ffcf",
        "colab": {
          "base_uri": "https://localhost:8080/"
        }
      },
      "execution_count": 170,
      "outputs": [
        {
          "output_type": "execute_result",
          "data": {
            "text/plain": [
              "13813896257.21995"
            ]
          },
          "metadata": {},
          "execution_count": 170
        }
      ]
    },
    {
      "cell_type": "code",
      "source": [],
      "metadata": {
        "id": "Q7cgMwMoVSpL"
      },
      "execution_count": null,
      "outputs": []
    }
  ]
}